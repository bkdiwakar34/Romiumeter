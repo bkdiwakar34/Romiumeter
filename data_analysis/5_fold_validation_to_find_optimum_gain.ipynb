{
 "cells": [
  {
   "cell_type": "markdown",
   "metadata": {},
   "source": [
    "## Optimum gain for complementary and Madgwick Filters\n",
    "\n",
    "A 5 fold validation analysis to find the otpimum gain for complementary and Madgwick Filters"
   ]
  },
  {
   "cell_type": "markdown",
   "metadata": {},
   "source": [
    "**Standard Modules**"
   ]
  },
  {
   "cell_type": "code",
   "execution_count": null,
   "metadata": {},
   "outputs": [],
   "source": [
    "import pandas as pd\n",
    "import numpy as np"
   ]
  },
  {
   "cell_type": "markdown",
   "metadata": {},
   "source": [
    "**Notebook Level constants**"
   ]
  },
  {
   "cell_type": "code",
   "execution_count": 3,
   "metadata": {},
   "outputs": [],
   "source": [
    "columns_imu_mcp =['comp_1_max_abs', 'comp_2_max_abs', 'comp_3_max_abs', 'comp_4_max_abs', 'comp_5_max_abs', 'comp_6_max_abs', 'comp_7_max_abs',\n",
    "                  'madg_1_max_abs', 'madg_2_max_abs', 'madg_3_max_abs', 'madg_4_max_abs', 'madg_5_max_abs', 'madg_6_max_abs', 'madg_7_max_abs',\n",
    "                  'comp_1_rom_abs', 'comp_2_rom_abs', 'comp_3_rom_abs', 'comp_4_rom_abs', 'comp_5_rom_abs', 'comp_6_rom_abs', 'comp_7_rom_abs',\n",
    "                  'madg_1_rom_abs', 'madg_2_rom_abs', 'madg_3_rom_abs', 'madg_4_rom_abs', 'madg_5_rom_abs', 'madg_6_rom_abs', 'madg_7_rom_abs']\n",
    "columns_imu_enc =['comp_1_max_abs', 'comp_2_max_abs', 'comp_3_max_abs', 'comp_4_max_abs', 'comp_5_max_abs', 'comp_6_max_abs', \n",
    "                  'madg_1_max_abs', 'madg_2_max_abs', 'madg_3_max_abs', 'madg_4_max_abs', 'madg_5_max_abs', 'madg_6_max_abs', \n",
    "                  'comp_1_rom_abs', 'comp_2_rom_abs', 'comp_3_rom_abs', 'comp_4_rom_abs', 'comp_5_rom_abs', 'comp_6_rom_abs', \n",
    "                  'madg_1_rom_abs', 'madg_2_rom_abs', 'madg_3_rom_abs', 'madg_4_rom_abs', 'madg_5_rom_abs', 'madg_6_rom_abs',]"
   ]
  },
  {
   "cell_type": "markdown",
   "metadata": {},
   "source": [
    "**Custom Functions**"
   ]
  },
  {
   "cell_type": "code",
   "execution_count": 4,
   "metadata": {},
   "outputs": [],
   "source": [
    "def average_err_of_test_and_train_data(data, stop_index):\n",
    "    \"\"\"\n",
    "    Compute the reconstruction error for test and train data\n",
    "    \"\"\"\n",
    "    avg_test = np.mean(data[stop_index - data_per_fold : stop_index], axis= 0)\n",
    "    if stop_index != len(data):\n",
    "        avg_train1 = np.mean(data[stop_index:], axis= 0)\n",
    "    if stop_index != data_per_fold:\n",
    "        avg_train2 = np.mean(data[0:stop_index - data_per_fold], axis= 0)\n",
    "    if stop_index != len(data) and stop_index != data_per_fold:\n",
    "        avg_train = np.mean([avg_train1, avg_train2], axis= 0)\n",
    "    elif stop_index != len(data):\n",
    "        avg_train = avg_train1\n",
    "    else:\n",
    "        avg_train = avg_train2\n",
    "    return avg_train, avg_test"
   ]
  },
  {
   "cell_type": "code",
   "execution_count": 5,
   "metadata": {},
   "outputs": [],
   "source": [
    "def find_optimum_gain_for_each_iteration(avg_train, avg_test):\n",
    "    \"\"\"\n",
    "    Return index of gain which has minimum error\n",
    "    \"\"\"\n",
    "    comp_rec_err_min_train = np.argmin(avg_train[0:7])\n",
    "    madg_rec_err_min_train = np.argmin(avg_train[7:14])\n",
    "    comp_rom_err_min_train = np.argmin(avg_train[14:21])\n",
    "    madg_rom_err_min_train = np.argmin(avg_train[21:28])\n",
    "    comp_rec_err_min_test = np.argmin(avg_test[0:7])\n",
    "    madg_rec_err_min_test = np.argmin(avg_test[7:14])\n",
    "    comp_rom_err_min_test = np.argmin(avg_test[14:21])\n",
    "    madg_rom_err_min_test = np.argmin(avg_test[21:28])\n",
    "    return [comp_rec_err_min_train, madg_rec_err_min_train, comp_rom_err_min_train, madg_rom_err_min_train, \n",
    "            comp_rec_err_min_test, madg_rec_err_min_test, comp_rom_err_min_test, madg_rom_err_min_test]"
   ]
  },
  {
   "cell_type": "markdown",
   "metadata": {},
   "source": [
    "**Optimum gain analysis**"
   ]
  },
  {
   "cell_type": "code",
   "execution_count": null,
   "metadata": {},
   "outputs": [],
   "source": [
    "data = pd.read_csv(r'D:\\ROMIU\\ROMIU_final_results\\imu_mocap_validation\\E_gain_optim.csv', usecols= columns)\n",
    "number_of_folds = 5\n",
    "fold = np.zeros((number_of_folds,8))\n",
    "data_per_fold = int(len(data)/number_of_folds)\n",
    "for j in range(number_of_folds):\n",
    "    avg_train, avg_test = average_err_of_test_and_train_data(data, (j+1)*data_per_fold)\n",
    "    fold = find_optimum_gain_for_each_iteration(avg_train, avg_test)\n",
    "    print(fold)"
   ]
  }
 ],
 "metadata": {
  "kernelspec": {
   "display_name": "cmc_project",
   "language": "python",
   "name": "python3"
  },
  "language_info": {
   "codemirror_mode": {
    "name": "ipython",
    "version": 3
   },
   "file_extension": ".py",
   "mimetype": "text/x-python",
   "name": "python",
   "nbconvert_exporter": "python",
   "pygments_lexer": "ipython3",
   "version": "3.7.10"
  },
  "orig_nbformat": 4
 },
 "nbformat": 4,
 "nbformat_minor": 2
}
